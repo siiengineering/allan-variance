{
 "cells": [
  {
   "cell_type": "markdown",
   "metadata": {},
   "source": [
    "# Computing Allan variance and noise parameters from it"
   ]
  },
  {
   "cell_type": "code",
   "execution_count": 1,
   "metadata": {
    "ExecuteTime": {
     "end_time": "2016-11-24T08:45:36.321000",
     "start_time": "2016-11-24T08:45:35.956000"
    }
   },
   "outputs": [],
   "source": [
    "%matplotlib inline"
   ]
  },
  {
   "cell_type": "code",
   "execution_count": 2,
   "metadata": {
    "ExecuteTime": {
     "end_time": "2016-11-24T08:45:36.327000",
     "start_time": "2016-11-24T08:45:36.323000"
    }
   },
   "outputs": [],
   "source": [
    "import matplotlib.pyplot as plt"
   ]
  },
  {
   "cell_type": "code",
   "execution_count": 3,
   "metadata": {
    "ExecuteTime": {
     "end_time": "2016-11-24T08:45:36.398000",
     "start_time": "2016-11-24T08:45:36.329000"
    }
   },
   "outputs": [],
   "source": [
    "import numpy as np"
   ]
  },
  {
   "cell_type": "code",
   "execution_count": 4,
   "metadata": {
    "ExecuteTime": {
     "end_time": "2016-11-24T08:45:36.585000",
     "start_time": "2016-11-24T08:45:36.400000"
    }
   },
   "outputs": [],
   "source": [
    "from allan_variance import allan_variance, params_from_avar"
   ]
  },
  {
   "cell_type": "markdown",
   "metadata": {},
   "source": [
    "First generate a model signal containing additive white noise, random walk and deterministic ramp:"
   ]
  },
  {
   "cell_type": "code",
   "execution_count": 5,
   "metadata": {
    "ExecuteTime": {
     "end_time": "2016-11-24T08:45:36.596000",
     "start_time": "2016-11-24T08:45:36.588000"
    }
   },
   "outputs": [],
   "source": [
    "def generate_signal(n, dt, q_white, q_walk, q_ramp, random_state=0):\n",
    "    rng = np.random.RandomState(random_state)\n",
    "    white = q_white * rng.randn(n) * dt ** 0.5\n",
    "    walk = q_walk * dt ** 0.5 * np.cumsum(rng.randn(n))    \n",
    "    ramp = q_ramp * dt * np.arange(n)\n",
    "    return white + walk * dt + ramp * dt"
   ]
  },
  {
   "cell_type": "code",
   "execution_count": 6,
   "metadata": {
    "ExecuteTime": {
     "end_time": "2016-11-24T08:45:36.666000",
     "start_time": "2016-11-24T08:45:36.599000"
    }
   },
   "outputs": [],
   "source": [
    "dt = 1e-2"
   ]
  },
  {
   "cell_type": "code",
   "execution_count": 7,
   "metadata": {
    "ExecuteTime": {
     "end_time": "2016-11-24T08:45:36.897000",
     "start_time": "2016-11-24T08:45:36.668000"
    }
   },
   "outputs": [],
   "source": [
    "x = generate_signal(1000000, dt, 0.1, 0.05, 0.002)"
   ]
  },
  {
   "cell_type": "markdown",
   "metadata": {},
   "source": [
    "Now compute AV curve using `allan_variance` function:"
   ]
  },
  {
   "cell_type": "code",
   "execution_count": 8,
   "metadata": {
    "ExecuteTime": {
     "end_time": "2016-11-24T08:45:38.676000",
     "start_time": "2016-11-24T08:45:36.900000"
    }
   },
   "outputs": [],
   "source": [
    "tau, av = allan_variance(x, dt)"
   ]
  },
  {
   "cell_type": "code",
   "execution_count": 9,
   "metadata": {
    "ExecuteTime": {
     "end_time": "2016-11-24T08:45:39.993000",
     "start_time": "2016-11-24T08:45:38.678000"
    }
   },
   "outputs": [
    {
     "data": {
      "text/plain": [
       "[<matplotlib.lines.Line2D at 0x7f3db2b72350>]"
      ]
     },
     "execution_count": 9,
     "metadata": {},
     "output_type": "execute_result"
    },
    {
     "data": {
      "image/png": "[encoded data removed]",
      "text/plain": [
       "<Figure size 432x288 with 1 Axes>"
      ]
     },
     "metadata": {
      "needs_background": "light"
     },
     "output_type": "display_data"
    }
   ],
   "source": [
    "plt.loglog(tau, av, '.')"
   ]
  },
  {
   "cell_type": "markdown",
   "metadata": {},
   "source": [
    "We clearly see a part with a slope of -1 corresponding to the white noise. At large averaging times AV is dominated by the linear ramp (slope is +2). The random walk part is located between them."
   ]
  },
  {
   "cell_type": "markdown",
   "metadata": {},
   "source": [
    "We can automatically estimate the noise magnitudes using `params_from_avar` function:"
   ]
  },
  {
   "cell_type": "code",
   "execution_count": 10,
   "metadata": {
    "ExecuteTime": {
     "end_time": "2016-11-24T08:45:39.998000",
     "start_time": "2016-11-24T08:45:39.995000"
    }
   },
   "outputs": [
    {
     "ename": "TypeError",
     "evalue": "params_from_avar() got an unexpected keyword argument 'output_type'",
     "output_type": "error",
     "traceback": [
      "\u001b[0;31m---------------------------------------------------------------------------\u001b[0m",
      "\u001b[0;31mTypeError\u001b[0m                                 Traceback (most recent call last)",
      "\u001b[0;32m<ipython-input-10-d6de91dbcaf7>\u001b[0m in \u001b[0;36m<module>\u001b[0;34m()\u001b[0m\n\u001b[0;32m----> 1\u001b[0;31m \u001b[0mparams\u001b[0m\u001b[0;34m,\u001b[0m \u001b[0mav_pred\u001b[0m \u001b[0;34m=\u001b[0m \u001b[0mparams_from_avar\u001b[0m\u001b[0;34m(\u001b[0m\u001b[0mtau\u001b[0m\u001b[0;34m,\u001b[0m \u001b[0mav\u001b[0m\u001b[0;34m,\u001b[0m \u001b[0moutput_type\u001b[0m\u001b[0;34m=\u001b[0m\u001b[0;34m'dict'\u001b[0m\u001b[0;34m)\u001b[0m\u001b[0;34m\u001b[0m\u001b[0m\n\u001b[0m",
      "\u001b[0;31mTypeError\u001b[0m: params_from_avar() got an unexpected keyword argument 'output_type'"
     ]
    }
   ],
   "source": [
    "params, av_pred = params_from_avar(tau, av, effects=)"
   ]
  },
  {
   "cell_type": "code",
   "execution_count": 11,
   "metadata": {
    "ExecuteTime": {
     "end_time": "2016-11-24T08:45:40.072000",
     "start_time": "2016-11-24T08:45:40"
    }
   },
   "outputs": [
    {
     "data": {
      "text/plain": [
       "OrderedDict([('quantization', 0.00096651164477205864),\n",
       "             ('white', 0.099391346391319635),\n",
       "             ('flicker', 0.0),\n",
       "             ('walk', 0.051824861619210683),\n",
       "             ('ramp', 0.0018948009021684032)])"
      ]
     },
     "execution_count": 11,
     "metadata": {},
     "output_type": "execute_result"
    }
   ],
   "source": [
    "params"
   ]
  },
  {
   "cell_type": "markdown",
   "metadata": {},
   "source": [
    "We see that the estimated parameters are close to the model values. And the parameters of the effects which weren't included in the model (quantization and flicker noise) are zero or very close to it."
   ]
  },
  {
   "cell_type": "markdown",
   "metadata": {},
   "source": [
    "Finally we display the estimated AV curve along with computed actual values:"
   ]
  },
  {
   "cell_type": "code",
   "execution_count": 12,
   "metadata": {
    "ExecuteTime": {
     "end_time": "2016-11-24T08:45:41.314000",
     "start_time": "2016-11-24T08:45:40.074000"
    }
   },
   "outputs": [
    {
     "data": {
      "text/plain": [
       "[<matplotlib.lines.Line2D at 0x104fe65f8>]"
      ]
     },
     "execution_count": 12,
     "metadata": {},
     "output_type": "execute_result"
    },
    {
     "data": {
      "image/png": "[encoded data removed]",
      "text/plain": [
       "<matplotlib.figure.Figure at 0x10c0af4e0>"
      ]
     },
     "metadata": {},
     "output_type": "display_data"
    }
   ],
   "source": [
    "plt.loglog(tau, av, '.')\n",
    "plt.loglog(tau, av_pred)"
   ]
  },
  {
   "cell_type": "code",
   "execution_count": null,
   "metadata": {
    "collapsed": true
   },
   "outputs": [],
   "source": []
  }
 ],
 "metadata": {
  "anaconda-cloud": {},
  "kernelspec": {
   "display_name": "Python 2",
   "language": "python",
   "name": "python2"
  },
  "language_info": {
   "codemirror_mode": {
    "name": "ipython",
    "version": 2
   },
   "file_extension": ".py",
   "mimetype": "text/x-python",
   "name": "python",
   "nbconvert_exporter": "python",
   "pygments_lexer": "ipython2",
   "version": "2.7.6"
  },
  "toc": {
   "nav_menu": {
    "height": "47px",
    "width": "252px"
   },
   "navigate_menu": true,
   "number_sections": true,
   "sideBar": true,
   "threshold": 4,
   "toc_cell": false,
   "toc_section_display": "block",
   "toc_window_display": false
  }
 },
 "nbformat": 4,
 "nbformat_minor": 1
}
